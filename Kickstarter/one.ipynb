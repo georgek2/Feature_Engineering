{
 "cells": [
  {
   "cell_type": "code",
   "execution_count": 1,
   "metadata": {},
   "outputs": [],
   "source": [
    "import numpy as np\n",
    "import pandas as pd\n",
    "\n",
    "from sklearn.ensemble import RandomForestClassifier\n",
    "\n",
    "import category_encoders as ce\n",
    "from sklearn.model_selection import train_test_split\n",
    "\n",
    "from sklearn import metrics\n",
    "\n",
    "np.random.seed(0)"
   ]
  },
  {
   "cell_type": "code",
   "execution_count": 2,
   "metadata": {},
   "outputs": [
    {
     "data": {
      "text/html": [
       "<div>\n",
       "<style scoped>\n",
       "    .dataframe tbody tr th:only-of-type {\n",
       "        vertical-align: middle;\n",
       "    }\n",
       "\n",
       "    .dataframe tbody tr th {\n",
       "        vertical-align: top;\n",
       "    }\n",
       "\n",
       "    .dataframe thead th {\n",
       "        text-align: right;\n",
       "    }\n",
       "</style>\n",
       "<table border=\"1\" class=\"dataframe\">\n",
       "  <thead>\n",
       "    <tr style=\"text-align: right;\">\n",
       "      <th></th>\n",
       "      <th>ID</th>\n",
       "      <th>name</th>\n",
       "      <th>category</th>\n",
       "      <th>main_category</th>\n",
       "      <th>currency</th>\n",
       "      <th>deadline</th>\n",
       "      <th>goal</th>\n",
       "      <th>launched</th>\n",
       "      <th>pledged</th>\n",
       "      <th>state</th>\n",
       "      <th>backers</th>\n",
       "      <th>country</th>\n",
       "      <th>usd pledged</th>\n",
       "      <th>usd_pledged_real</th>\n",
       "      <th>usd_goal_real</th>\n",
       "    </tr>\n",
       "  </thead>\n",
       "  <tbody>\n",
       "    <tr>\n",
       "      <th>0</th>\n",
       "      <td>1000002330</td>\n",
       "      <td>The Songs of Adelaide &amp; Abullah</td>\n",
       "      <td>Poetry</td>\n",
       "      <td>Publishing</td>\n",
       "      <td>GBP</td>\n",
       "      <td>2015-10-09</td>\n",
       "      <td>1000.0</td>\n",
       "      <td>2015-08-11 12:12:28</td>\n",
       "      <td>0.0</td>\n",
       "      <td>failed</td>\n",
       "      <td>0</td>\n",
       "      <td>GB</td>\n",
       "      <td>0.0</td>\n",
       "      <td>0.0</td>\n",
       "      <td>1533.95</td>\n",
       "    </tr>\n",
       "    <tr>\n",
       "      <th>1</th>\n",
       "      <td>1000003930</td>\n",
       "      <td>Greeting From Earth: ZGAC Arts Capsule For ET</td>\n",
       "      <td>Narrative Film</td>\n",
       "      <td>Film &amp; Video</td>\n",
       "      <td>USD</td>\n",
       "      <td>2017-11-01</td>\n",
       "      <td>30000.0</td>\n",
       "      <td>2017-09-02 04:43:57</td>\n",
       "      <td>2421.0</td>\n",
       "      <td>failed</td>\n",
       "      <td>15</td>\n",
       "      <td>US</td>\n",
       "      <td>100.0</td>\n",
       "      <td>2421.0</td>\n",
       "      <td>30000.00</td>\n",
       "    </tr>\n",
       "  </tbody>\n",
       "</table>\n",
       "</div>"
      ],
      "text/plain": [
       "           ID                                           name        category  \\\n",
       "0  1000002330                The Songs of Adelaide & Abullah          Poetry   \n",
       "1  1000003930  Greeting From Earth: ZGAC Arts Capsule For ET  Narrative Film   \n",
       "\n",
       "  main_category currency    deadline     goal            launched  pledged  \\\n",
       "0    Publishing      GBP  2015-10-09   1000.0 2015-08-11 12:12:28      0.0   \n",
       "1  Film & Video      USD  2017-11-01  30000.0 2017-09-02 04:43:57   2421.0   \n",
       "\n",
       "    state  backers country  usd pledged  usd_pledged_real  usd_goal_real  \n",
       "0  failed        0      GB          0.0               0.0        1533.95  \n",
       "1  failed       15      US        100.0            2421.0       30000.00  "
      ]
     },
     "execution_count": 2,
     "metadata": {},
     "output_type": "execute_result"
    }
   ],
   "source": [
    "data = pd.read_csv('kickstarter.csv', parse_dates=['launched'])\n",
    "data.head(2)"
   ]
  },
  {
   "cell_type": "code",
   "execution_count": 3,
   "metadata": {},
   "outputs": [],
   "source": [
    "data = data.query(\"state !='live'\")"
   ]
  },
  {
   "cell_type": "code",
   "execution_count": 4,
   "metadata": {},
   "outputs": [
    {
     "data": {
      "text/plain": [
       "ID                     0\n",
       "name                   4\n",
       "category               0\n",
       "main_category          0\n",
       "currency               0\n",
       "deadline               0\n",
       "goal                   0\n",
       "launched               0\n",
       "pledged                0\n",
       "state                  0\n",
       "backers                0\n",
       "country                0\n",
       "usd pledged         3796\n",
       "usd_pledged_real       0\n",
       "usd_goal_real          0\n",
       "dtype: int64"
      ]
     },
     "execution_count": 4,
     "metadata": {},
     "output_type": "execute_result"
    }
   ],
   "source": [
    "data.isnull().sum()"
   ]
  },
  {
   "cell_type": "code",
   "execution_count": 5,
   "metadata": {},
   "outputs": [
    {
     "data": {
      "text/html": [
       "<div>\n",
       "<style scoped>\n",
       "    .dataframe tbody tr th:only-of-type {\n",
       "        vertical-align: middle;\n",
       "    }\n",
       "\n",
       "    .dataframe tbody tr th {\n",
       "        vertical-align: top;\n",
       "    }\n",
       "\n",
       "    .dataframe thead th {\n",
       "        text-align: right;\n",
       "    }\n",
       "</style>\n",
       "<table border=\"1\" class=\"dataframe\">\n",
       "  <thead>\n",
       "    <tr style=\"text-align: right;\">\n",
       "      <th></th>\n",
       "      <th>ID</th>\n",
       "      <th>name</th>\n",
       "      <th>category</th>\n",
       "      <th>main_category</th>\n",
       "      <th>currency</th>\n",
       "      <th>deadline</th>\n",
       "      <th>goal</th>\n",
       "      <th>launched</th>\n",
       "      <th>pledged</th>\n",
       "      <th>state</th>\n",
       "      <th>backers</th>\n",
       "      <th>country</th>\n",
       "      <th>usd pledged</th>\n",
       "      <th>usd_pledged_real</th>\n",
       "      <th>usd_goal_real</th>\n",
       "      <th>hour</th>\n",
       "      <th>day</th>\n",
       "      <th>month</th>\n",
       "      <th>year</th>\n",
       "      <th>outcome</th>\n",
       "    </tr>\n",
       "  </thead>\n",
       "  <tbody>\n",
       "    <tr>\n",
       "      <th>0</th>\n",
       "      <td>1000002330</td>\n",
       "      <td>The Songs of Adelaide &amp; Abullah</td>\n",
       "      <td>Poetry</td>\n",
       "      <td>Publishing</td>\n",
       "      <td>GBP</td>\n",
       "      <td>2015-10-09</td>\n",
       "      <td>1000.0</td>\n",
       "      <td>2015-08-11 12:12:28</td>\n",
       "      <td>0.0</td>\n",
       "      <td>failed</td>\n",
       "      <td>0</td>\n",
       "      <td>GB</td>\n",
       "      <td>0.0</td>\n",
       "      <td>0.0</td>\n",
       "      <td>1533.95</td>\n",
       "      <td>12</td>\n",
       "      <td>11</td>\n",
       "      <td>8</td>\n",
       "      <td>2015</td>\n",
       "      <td>0</td>\n",
       "    </tr>\n",
       "    <tr>\n",
       "      <th>1</th>\n",
       "      <td>1000003930</td>\n",
       "      <td>Greeting From Earth: ZGAC Arts Capsule For ET</td>\n",
       "      <td>Narrative Film</td>\n",
       "      <td>Film &amp; Video</td>\n",
       "      <td>USD</td>\n",
       "      <td>2017-11-01</td>\n",
       "      <td>30000.0</td>\n",
       "      <td>2017-09-02 04:43:57</td>\n",
       "      <td>2421.0</td>\n",
       "      <td>failed</td>\n",
       "      <td>15</td>\n",
       "      <td>US</td>\n",
       "      <td>100.0</td>\n",
       "      <td>2421.0</td>\n",
       "      <td>30000.00</td>\n",
       "      <td>4</td>\n",
       "      <td>2</td>\n",
       "      <td>9</td>\n",
       "      <td>2017</td>\n",
       "      <td>0</td>\n",
       "    </tr>\n",
       "  </tbody>\n",
       "</table>\n",
       "</div>"
      ],
      "text/plain": [
       "           ID                                           name        category  \\\n",
       "0  1000002330                The Songs of Adelaide & Abullah          Poetry   \n",
       "1  1000003930  Greeting From Earth: ZGAC Arts Capsule For ET  Narrative Film   \n",
       "\n",
       "  main_category currency    deadline     goal            launched  pledged  \\\n",
       "0    Publishing      GBP  2015-10-09   1000.0 2015-08-11 12:12:28      0.0   \n",
       "1  Film & Video      USD  2017-11-01  30000.0 2017-09-02 04:43:57   2421.0   \n",
       "\n",
       "    state  backers country  usd pledged  usd_pledged_real  usd_goal_real  \\\n",
       "0  failed        0      GB          0.0               0.0        1533.95   \n",
       "1  failed       15      US        100.0            2421.0       30000.00   \n",
       "\n",
       "   hour  day  month  year  outcome  \n",
       "0    12   11      8  2015        0  \n",
       "1     4    2      9  2017        0  "
      ]
     },
     "execution_count": 5,
     "metadata": {},
     "output_type": "execute_result"
    }
   ],
   "source": [
    "data = data.assign(hour=data.launched.dt.hour,\n",
    "                  day=data.launched.dt.day,\n",
    "                  month=data.launched.dt.month,\n",
    "                  year=data.launched.dt.year,\n",
    "                  outcome=(data.state == 'successful').astype('int64'))\n",
    "data.head(2)"
   ]
  },
  {
   "cell_type": "code",
   "execution_count": 6,
   "metadata": {},
   "outputs": [],
   "source": [
    "num_features = ['hour', 'day', 'month', 'year', 'goal', 'pledged', 'backers']"
   ]
  },
  {
   "cell_type": "code",
   "execution_count": 7,
   "metadata": {},
   "outputs": [],
   "source": [
    "cat_features = ['category', 'currency', 'country']"
   ]
  },
  {
   "cell_type": "code",
   "execution_count": 8,
   "metadata": {},
   "outputs": [
    {
     "data": {
      "text/html": [
       "<div>\n",
       "<style scoped>\n",
       "    .dataframe tbody tr th:only-of-type {\n",
       "        vertical-align: middle;\n",
       "    }\n",
       "\n",
       "    .dataframe tbody tr th {\n",
       "        vertical-align: top;\n",
       "    }\n",
       "\n",
       "    .dataframe thead th {\n",
       "        text-align: right;\n",
       "    }\n",
       "</style>\n",
       "<table border=\"1\" class=\"dataframe\">\n",
       "  <thead>\n",
       "    <tr style=\"text-align: right;\">\n",
       "      <th></th>\n",
       "      <th>hour</th>\n",
       "      <th>day</th>\n",
       "      <th>month</th>\n",
       "      <th>year</th>\n",
       "      <th>goal</th>\n",
       "      <th>pledged</th>\n",
       "      <th>backers</th>\n",
       "      <th>category</th>\n",
       "      <th>currency</th>\n",
       "      <th>country</th>\n",
       "    </tr>\n",
       "  </thead>\n",
       "  <tbody>\n",
       "    <tr>\n",
       "      <th>0</th>\n",
       "      <td>12</td>\n",
       "      <td>11</td>\n",
       "      <td>8</td>\n",
       "      <td>2015</td>\n",
       "      <td>1000.0</td>\n",
       "      <td>0.0</td>\n",
       "      <td>0</td>\n",
       "      <td>Poetry</td>\n",
       "      <td>GBP</td>\n",
       "      <td>GB</td>\n",
       "    </tr>\n",
       "    <tr>\n",
       "      <th>1</th>\n",
       "      <td>4</td>\n",
       "      <td>2</td>\n",
       "      <td>9</td>\n",
       "      <td>2017</td>\n",
       "      <td>30000.0</td>\n",
       "      <td>2421.0</td>\n",
       "      <td>15</td>\n",
       "      <td>Narrative Film</td>\n",
       "      <td>USD</td>\n",
       "      <td>US</td>\n",
       "    </tr>\n",
       "    <tr>\n",
       "      <th>2</th>\n",
       "      <td>0</td>\n",
       "      <td>12</td>\n",
       "      <td>1</td>\n",
       "      <td>2013</td>\n",
       "      <td>45000.0</td>\n",
       "      <td>220.0</td>\n",
       "      <td>3</td>\n",
       "      <td>Narrative Film</td>\n",
       "      <td>USD</td>\n",
       "      <td>US</td>\n",
       "    </tr>\n",
       "  </tbody>\n",
       "</table>\n",
       "</div>"
      ],
      "text/plain": [
       "   hour  day  month  year     goal  pledged  backers        category currency  \\\n",
       "0    12   11      8  2015   1000.0      0.0        0          Poetry      GBP   \n",
       "1     4    2      9  2017  30000.0   2421.0       15  Narrative Film      USD   \n",
       "2     0   12      1  2013  45000.0    220.0        3  Narrative Film      USD   \n",
       "\n",
       "  country  \n",
       "0      GB  \n",
       "1      US  \n",
       "2      US  "
      ]
     },
     "execution_count": 8,
     "metadata": {},
     "output_type": "execute_result"
    }
   ],
   "source": [
    "cols = num_features + cat_features\n",
    "\n",
    "X = data[cols]\n",
    "X.head(3)"
   ]
  },
  {
   "cell_type": "code",
   "execution_count": 9,
   "metadata": {},
   "outputs": [
    {
     "name": "stdout",
     "output_type": "stream",
     "text": [
      "375862\n"
     ]
    },
    {
     "data": {
      "text/plain": [
       "375862"
      ]
     },
     "execution_count": 9,
     "metadata": {},
     "output_type": "execute_result"
    }
   ],
   "source": [
    "print(len(X))\n",
    "y = data.outcome\n",
    "len(y)"
   ]
  },
  {
   "cell_type": "code",
   "execution_count": 10,
   "metadata": {},
   "outputs": [],
   "source": [
    "X_train, X_valid, y_train, y_valid = train_test_split(X, y, test_size=0.2, random_state=11)"
   ]
  },
  {
   "cell_type": "code",
   "execution_count": 11,
   "metadata": {},
   "outputs": [],
   "source": [
    "encoder = ce.CountEncoder(cols=cat_features)"
   ]
  },
  {
   "cell_type": "code",
   "execution_count": 12,
   "metadata": {},
   "outputs": [
    {
     "data": {
      "text/plain": [
       "CountEncoder(cols=['category', 'currency', 'country'],\n",
       "             combine_min_nan_groups=True, drop_invariant=False,\n",
       "             handle_missing='count', handle_unknown=None, min_group_name=None,\n",
       "             min_group_size=None, normalize=False, return_df=True, verbose=0)"
      ]
     },
     "execution_count": 12,
     "metadata": {},
     "output_type": "execute_result"
    }
   ],
   "source": [
    "encoder.fit(X_train[cat_features], y_train)"
   ]
  },
  {
   "cell_type": "code",
   "execution_count": 14,
   "metadata": {},
   "outputs": [
    {
     "data": {
      "text/html": [
       "<div>\n",
       "<style scoped>\n",
       "    .dataframe tbody tr th:only-of-type {\n",
       "        vertical-align: middle;\n",
       "    }\n",
       "\n",
       "    .dataframe tbody tr th {\n",
       "        vertical-align: top;\n",
       "    }\n",
       "\n",
       "    .dataframe thead th {\n",
       "        text-align: right;\n",
       "    }\n",
       "</style>\n",
       "<table border=\"1\" class=\"dataframe\">\n",
       "  <thead>\n",
       "    <tr style=\"text-align: right;\">\n",
       "      <th></th>\n",
       "      <th>hour</th>\n",
       "      <th>day</th>\n",
       "      <th>month</th>\n",
       "      <th>year</th>\n",
       "      <th>goal</th>\n",
       "      <th>pledged</th>\n",
       "      <th>backers</th>\n",
       "      <th>category</th>\n",
       "      <th>currency</th>\n",
       "      <th>country</th>\n",
       "      <th>category_count</th>\n",
       "      <th>currency_count</th>\n",
       "      <th>country_count</th>\n",
       "    </tr>\n",
       "  </thead>\n",
       "  <tbody>\n",
       "    <tr>\n",
       "      <th>60011</th>\n",
       "      <td>17</td>\n",
       "      <td>22</td>\n",
       "      <td>9</td>\n",
       "      <td>2015</td>\n",
       "      <td>15000.0</td>\n",
       "      <td>37545.00</td>\n",
       "      <td>834</td>\n",
       "      <td>Product Design</td>\n",
       "      <td>USD</td>\n",
       "      <td>US</td>\n",
       "      <td>17644</td>\n",
       "      <td>234835</td>\n",
       "      <td>232628</td>\n",
       "    </tr>\n",
       "    <tr>\n",
       "      <th>134505</th>\n",
       "      <td>18</td>\n",
       "      <td>29</td>\n",
       "      <td>7</td>\n",
       "      <td>2010</td>\n",
       "      <td>3750.0</td>\n",
       "      <td>6176.59</td>\n",
       "      <td>125</td>\n",
       "      <td>Indie Rock</td>\n",
       "      <td>USD</td>\n",
       "      <td>US</td>\n",
       "      <td>4550</td>\n",
       "      <td>234835</td>\n",
       "      <td>232628</td>\n",
       "    </tr>\n",
       "    <tr>\n",
       "      <th>248356</th>\n",
       "      <td>21</td>\n",
       "      <td>18</td>\n",
       "      <td>9</td>\n",
       "      <td>2016</td>\n",
       "      <td>11284.0</td>\n",
       "      <td>235.00</td>\n",
       "      <td>8</td>\n",
       "      <td>Illustration</td>\n",
       "      <td>EUR</td>\n",
       "      <td>DE</td>\n",
       "      <td>2514</td>\n",
       "      <td>13663</td>\n",
       "      <td>3308</td>\n",
       "    </tr>\n",
       "  </tbody>\n",
       "</table>\n",
       "</div>"
      ],
      "text/plain": [
       "        hour  day  month  year     goal   pledged  backers        category  \\\n",
       "60011     17   22      9  2015  15000.0  37545.00      834  Product Design   \n",
       "134505    18   29      7  2010   3750.0   6176.59      125      Indie Rock   \n",
       "248356    21   18      9  2016  11284.0    235.00        8    Illustration   \n",
       "\n",
       "       currency country  category_count  currency_count  country_count  \n",
       "60011       USD      US           17644          234835         232628  \n",
       "134505      USD      US            4550          234835         232628  \n",
       "248356      EUR      DE            2514           13663           3308  "
      ]
     },
     "execution_count": 14,
     "metadata": {},
     "output_type": "execute_result"
    }
   ],
   "source": [
    "X_train = X_train.join(encoder.transform(X_train[cat_features]).add_suffix('_count'))\n",
    "X_valid = X_valid.join(encoder.transform(X_valid[cat_features]).add_suffix('_count'))\n",
    "\n",
    "X_train.head(3)"
   ]
  },
  {
   "cell_type": "code",
   "execution_count": 15,
   "metadata": {},
   "outputs": [
    {
     "data": {
      "text/html": [
       "<div>\n",
       "<style scoped>\n",
       "    .dataframe tbody tr th:only-of-type {\n",
       "        vertical-align: middle;\n",
       "    }\n",
       "\n",
       "    .dataframe tbody tr th {\n",
       "        vertical-align: top;\n",
       "    }\n",
       "\n",
       "    .dataframe thead th {\n",
       "        text-align: right;\n",
       "    }\n",
       "</style>\n",
       "<table border=\"1\" class=\"dataframe\">\n",
       "  <thead>\n",
       "    <tr style=\"text-align: right;\">\n",
       "      <th></th>\n",
       "      <th>hour</th>\n",
       "      <th>day</th>\n",
       "      <th>month</th>\n",
       "      <th>year</th>\n",
       "      <th>goal</th>\n",
       "      <th>pledged</th>\n",
       "      <th>backers</th>\n",
       "      <th>category_count</th>\n",
       "      <th>currency_count</th>\n",
       "      <th>country_count</th>\n",
       "    </tr>\n",
       "  </thead>\n",
       "  <tbody>\n",
       "    <tr>\n",
       "      <th>60011</th>\n",
       "      <td>17</td>\n",
       "      <td>22</td>\n",
       "      <td>9</td>\n",
       "      <td>2015</td>\n",
       "      <td>15000.0</td>\n",
       "      <td>37545.00</td>\n",
       "      <td>834</td>\n",
       "      <td>17644</td>\n",
       "      <td>234835</td>\n",
       "      <td>232628</td>\n",
       "    </tr>\n",
       "    <tr>\n",
       "      <th>134505</th>\n",
       "      <td>18</td>\n",
       "      <td>29</td>\n",
       "      <td>7</td>\n",
       "      <td>2010</td>\n",
       "      <td>3750.0</td>\n",
       "      <td>6176.59</td>\n",
       "      <td>125</td>\n",
       "      <td>4550</td>\n",
       "      <td>234835</td>\n",
       "      <td>232628</td>\n",
       "    </tr>\n",
       "    <tr>\n",
       "      <th>248356</th>\n",
       "      <td>21</td>\n",
       "      <td>18</td>\n",
       "      <td>9</td>\n",
       "      <td>2016</td>\n",
       "      <td>11284.0</td>\n",
       "      <td>235.00</td>\n",
       "      <td>8</td>\n",
       "      <td>2514</td>\n",
       "      <td>13663</td>\n",
       "      <td>3308</td>\n",
       "    </tr>\n",
       "  </tbody>\n",
       "</table>\n",
       "</div>"
      ],
      "text/plain": [
       "        hour  day  month  year     goal   pledged  backers  category_count  \\\n",
       "60011     17   22      9  2015  15000.0  37545.00      834           17644   \n",
       "134505    18   29      7  2010   3750.0   6176.59      125            4550   \n",
       "248356    21   18      9  2016  11284.0    235.00        8            2514   \n",
       "\n",
       "        currency_count  country_count  \n",
       "60011           234835         232628  \n",
       "134505          234835         232628  \n",
       "248356           13663           3308  "
      ]
     },
     "execution_count": 15,
     "metadata": {},
     "output_type": "execute_result"
    }
   ],
   "source": [
    "X_train = X_train.drop(cat_features, axis=1)\n",
    "X_valid = X_valid.drop(cat_features, axis=1)\n",
    "\n",
    "X_train.head(3)"
   ]
  },
  {
   "cell_type": "code",
   "execution_count": 17,
   "metadata": {},
   "outputs": [],
   "source": [
    "model = RandomForestClassifier(n_estimators=250, random_state=11)"
   ]
  },
  {
   "cell_type": "code",
   "execution_count": 18,
   "metadata": {},
   "outputs": [
    {
     "data": {
      "text/plain": [
       "RandomForestClassifier(bootstrap=True, ccp_alpha=0.0, class_weight=None,\n",
       "                       criterion='gini', max_depth=None, max_features='auto',\n",
       "                       max_leaf_nodes=None, max_samples=None,\n",
       "                       min_impurity_decrease=0.0, min_impurity_split=None,\n",
       "                       min_samples_leaf=1, min_samples_split=2,\n",
       "                       min_weight_fraction_leaf=0.0, n_estimators=250,\n",
       "                       n_jobs=None, oob_score=False, random_state=11, verbose=0,\n",
       "                       warm_start=False)"
      ]
     },
     "execution_count": 18,
     "metadata": {},
     "output_type": "execute_result"
    }
   ],
   "source": [
    "model.fit(X_train, y_train)"
   ]
  },
  {
   "cell_type": "code",
   "execution_count": 21,
   "metadata": {},
   "outputs": [
    {
     "name": "stdout",
     "output_type": "stream",
     "text": [
      "RandomForest score:  0.9959161861100025\n"
     ]
    }
   ],
   "source": [
    "preds = model.predict(X_valid)\n",
    "score = metrics.roc_auc_score(y_valid, preds)\n",
    "print('RandomForest score: ', score)"
   ]
  },
  {
   "cell_type": "code",
   "execution_count": 19,
   "metadata": {},
   "outputs": [],
   "source": [
    "from sklearn.tree import DecisionTreeClassifier"
   ]
  },
  {
   "cell_type": "code",
   "execution_count": 20,
   "metadata": {},
   "outputs": [
    {
     "data": {
      "text/plain": [
       "DecisionTreeClassifier(ccp_alpha=0.0, class_weight=None, criterion='gini',\n",
       "                       max_depth=None, max_features=None, max_leaf_nodes=None,\n",
       "                       min_impurity_decrease=0.0, min_impurity_split=None,\n",
       "                       min_samples_leaf=1, min_samples_split=2,\n",
       "                       min_weight_fraction_leaf=0.0, presort='deprecated',\n",
       "                       random_state=None, splitter='best')"
      ]
     },
     "execution_count": 20,
     "metadata": {},
     "output_type": "execute_result"
    }
   ],
   "source": [
    "model_2 = DecisionTreeClassifier()\n",
    "model_2.fit(X_train, y_train)"
   ]
  },
  {
   "cell_type": "code",
   "execution_count": 22,
   "metadata": {},
   "outputs": [
    {
     "name": "stdout",
     "output_type": "stream",
     "text": [
      "DecisionTree score:  0.9923674855274516\n"
     ]
    }
   ],
   "source": [
    "preds = model_2.predict(X_valid)\n",
    "score = metrics.roc_auc_score(y_valid, preds)\n",
    "print('DecisionTree score: ', score)"
   ]
  },
  {
   "cell_type": "code",
   "execution_count": 23,
   "metadata": {},
   "outputs": [],
   "source": [
    "from sklearn.neighbors import KNeighborsClassifier"
   ]
  },
  {
   "cell_type": "code",
   "execution_count": 24,
   "metadata": {},
   "outputs": [
    {
     "data": {
      "text/plain": [
       "KNeighborsClassifier(algorithm='auto', leaf_size=30, metric='minkowski',\n",
       "                     metric_params=None, n_jobs=None, n_neighbors=5, p=2,\n",
       "                     weights='uniform')"
      ]
     },
     "execution_count": 24,
     "metadata": {},
     "output_type": "execute_result"
    }
   ],
   "source": [
    "model_3 = KNeighborsClassifier()\n",
    "model_3.fit(X_train, y_train)"
   ]
  },
  {
   "cell_type": "code",
   "execution_count": 25,
   "metadata": {},
   "outputs": [
    {
     "name": "stdout",
     "output_type": "stream",
     "text": [
      "KNeighbors score:  0.9931416425421069\n"
     ]
    }
   ],
   "source": [
    "preds = model_3.predict(X_valid)\n",
    "score = metrics.roc_auc_score(y_valid, preds)\n",
    "print('KNeighbors score: ', score)"
   ]
  },
  {
   "cell_type": "code",
   "execution_count": 29,
   "metadata": {},
   "outputs": [
    {
     "name": "stdout",
     "output_type": "stream",
     "text": [
      "[LightGBM] [Info] Number of positive: 107174, number of negative: 193515\n",
      "[LightGBM] [Warning] Auto-choosing row-wise multi-threading, the overhead of testing was 0.012061 seconds.\n",
      "You can set `force_row_wise=true` to remove the overhead.\n",
      "And if memory is not enough, you can set `force_col_wise=true`.\n",
      "[LightGBM] [Info] Total Bins 1033\n",
      "[LightGBM] [Info] Number of data points in the train set: 300689, number of used features: 10\n",
      "[LightGBM] [Info] [binary:BoostFromScore]: pavg=0.356428 -> initscore=-0.590901\n",
      "[LightGBM] [Info] Start training from score -0.590901\n",
      "[1]\tvalid_0's auc: 0.99248\n",
      "Training until validation scores don't improve for 10 rounds\n",
      "[2]\tvalid_0's auc: 0.995178\n",
      "[3]\tvalid_0's auc: 0.996073\n",
      "[4]\tvalid_0's auc: 0.996287\n",
      "[5]\tvalid_0's auc: 0.997135\n",
      "[6]\tvalid_0's auc: 0.997378\n",
      "[7]\tvalid_0's auc: 0.997852\n",
      "[8]\tvalid_0's auc: 0.997883\n",
      "[9]\tvalid_0's auc: 0.997884\n",
      "[10]\tvalid_0's auc: 0.998093\n",
      "[11]\tvalid_0's auc: 0.99811\n",
      "[12]\tvalid_0's auc: 0.99812\n",
      "[13]\tvalid_0's auc: 0.998195\n",
      "[14]\tvalid_0's auc: 0.998226\n",
      "[15]\tvalid_0's auc: 0.998253\n",
      "[16]\tvalid_0's auc: 0.998279\n",
      "[17]\tvalid_0's auc: 0.998306\n",
      "[18]\tvalid_0's auc: 0.9983\n",
      "[19]\tvalid_0's auc: 0.998312\n",
      "[20]\tvalid_0's auc: 0.998332\n",
      "[21]\tvalid_0's auc: 0.998318\n",
      "[22]\tvalid_0's auc: 0.998328\n",
      "[23]\tvalid_0's auc: 0.998359\n",
      "[24]\tvalid_0's auc: 0.998426\n",
      "[25]\tvalid_0's auc: 0.998456\n",
      "[26]\tvalid_0's auc: 0.998443\n",
      "[27]\tvalid_0's auc: 0.99849\n",
      "[28]\tvalid_0's auc: 0.998501\n",
      "[29]\tvalid_0's auc: 0.998495\n",
      "[30]\tvalid_0's auc: 0.998504\n",
      "[31]\tvalid_0's auc: 0.998508\n",
      "[32]\tvalid_0's auc: 0.998503\n",
      "[33]\tvalid_0's auc: 0.998526\n",
      "[34]\tvalid_0's auc: 0.998531\n",
      "[35]\tvalid_0's auc: 0.99852\n",
      "[36]\tvalid_0's auc: 0.998516\n",
      "[37]\tvalid_0's auc: 0.998519\n",
      "[38]\tvalid_0's auc: 0.998509\n",
      "[39]\tvalid_0's auc: 0.998551\n",
      "[40]\tvalid_0's auc: 0.998548\n",
      "[41]\tvalid_0's auc: 0.998637\n",
      "[42]\tvalid_0's auc: 0.998699\n",
      "[43]\tvalid_0's auc: 0.998728\n",
      "[44]\tvalid_0's auc: 0.998725\n",
      "[45]\tvalid_0's auc: 0.998822\n",
      "[46]\tvalid_0's auc: 0.998808\n",
      "[47]\tvalid_0's auc: 0.998818\n",
      "[48]\tvalid_0's auc: 0.998814\n",
      "[49]\tvalid_0's auc: 0.998837\n",
      "[50]\tvalid_0's auc: 0.998914\n",
      "[51]\tvalid_0's auc: 0.998917\n",
      "[52]\tvalid_0's auc: 0.998923\n",
      "[53]\tvalid_0's auc: 0.998958\n",
      "[54]\tvalid_0's auc: 0.998963\n",
      "[55]\tvalid_0's auc: 0.998988\n",
      "[56]\tvalid_0's auc: 0.998998\n",
      "[57]\tvalid_0's auc: 0.999003\n",
      "[58]\tvalid_0's auc: 0.999004\n",
      "[59]\tvalid_0's auc: 0.999058\n",
      "[60]\tvalid_0's auc: 0.999063\n",
      "[61]\tvalid_0's auc: 0.999061\n",
      "[62]\tvalid_0's auc: 0.999081\n",
      "[63]\tvalid_0's auc: 0.999083\n",
      "[64]\tvalid_0's auc: 0.999099\n",
      "[65]\tvalid_0's auc: 0.999101\n",
      "[66]\tvalid_0's auc: 0.999118\n",
      "[67]\tvalid_0's auc: 0.999117\n",
      "[68]\tvalid_0's auc: 0.999112\n",
      "[69]\tvalid_0's auc: 0.999118\n",
      "[70]\tvalid_0's auc: 0.999127\n",
      "[71]\tvalid_0's auc: 0.999141\n",
      "[72]\tvalid_0's auc: 0.999148\n",
      "[73]\tvalid_0's auc: 0.999152\n",
      "[74]\tvalid_0's auc: 0.999153\n",
      "[75]\tvalid_0's auc: 0.999153\n",
      "[76]\tvalid_0's auc: 0.999166\n",
      "[77]\tvalid_0's auc: 0.999166\n",
      "[78]\tvalid_0's auc: 0.999168\n",
      "[79]\tvalid_0's auc: 0.999175\n",
      "[80]\tvalid_0's auc: 0.99918\n",
      "[81]\tvalid_0's auc: 0.99919\n",
      "[82]\tvalid_0's auc: 0.999208\n",
      "[83]\tvalid_0's auc: 0.999207\n",
      "[84]\tvalid_0's auc: 0.999208\n",
      "[85]\tvalid_0's auc: 0.999208\n",
      "[86]\tvalid_0's auc: 0.999208\n",
      "[87]\tvalid_0's auc: 0.999215\n",
      "[88]\tvalid_0's auc: 0.999214\n",
      "[89]\tvalid_0's auc: 0.999216\n",
      "[90]\tvalid_0's auc: 0.999215\n",
      "[91]\tvalid_0's auc: 0.999212\n",
      "[92]\tvalid_0's auc: 0.999212\n",
      "[93]\tvalid_0's auc: 0.999225\n",
      "[94]\tvalid_0's auc: 0.999226\n",
      "[95]\tvalid_0's auc: 0.999227\n",
      "[96]\tvalid_0's auc: 0.99923\n",
      "[97]\tvalid_0's auc: 0.99924\n",
      "[98]\tvalid_0's auc: 0.999241\n",
      "[99]\tvalid_0's auc: 0.999241\n",
      "[100]\tvalid_0's auc: 0.999239\n",
      "[101]\tvalid_0's auc: 0.999235\n",
      "[102]\tvalid_0's auc: 0.999235\n",
      "[103]\tvalid_0's auc: 0.999235\n",
      "[104]\tvalid_0's auc: 0.999234\n",
      "[105]\tvalid_0's auc: 0.999233\n",
      "[106]\tvalid_0's auc: 0.999232\n",
      "[107]\tvalid_0's auc: 0.999235\n",
      "[108]\tvalid_0's auc: 0.999236\n",
      "[109]\tvalid_0's auc: 0.999233\n",
      "Early stopping, best iteration is:\n",
      "[99]\tvalid_0's auc: 0.999241\n"
     ]
    }
   ],
   "source": [
    "import lightgbm as lgb\n",
    "\n",
    "param = {'num_leaves': 33, 'objective': 'binary', 'metric': 'auc'}\n",
    "num_rounds = 450\n",
    "\n",
    "dtrain = lgb.Dataset(X_train, y_train)\n",
    "dvalid = lgb.Dataset(X_valid, y_valid)\n",
    "\n",
    "model_lgb = lgb.train(param, dtrain, num_rounds, valid_sets=[dvalid], early_stopping_rounds=10)"
   ]
  },
  {
   "cell_type": "code",
   "execution_count": null,
   "metadata": {},
   "outputs": [],
   "source": []
  },
  {
   "cell_type": "markdown",
   "metadata": {},
   "source": [
    "### Projects in the last week"
   ]
  },
  {
   "cell_type": "code",
   "execution_count": 32,
   "metadata": {},
   "outputs": [
    {
     "data": {
      "text/plain": [
       "launched\n",
       "1970-01-01 01:00:00     94579\n",
       "1970-01-01 01:00:00    319002\n",
       "1970-01-01 01:00:00    247913\n",
       "1970-01-01 01:00:00     48147\n",
       "1970-01-01 01:00:00     75397\n",
       "Name: count_7_days, dtype: int64"
      ]
     },
     "execution_count": 32,
     "metadata": {},
     "output_type": "execute_result"
    }
   ],
   "source": [
    "launched = pd.Series(data.index, index=data.launched, name='count_7_days').sort_index()\n",
    "launched.head()"
   ]
  },
  {
   "cell_type": "code",
   "execution_count": 33,
   "metadata": {},
   "outputs": [
    {
     "data": {
      "text/plain": [
       "launched\n",
       "1970-01-01 01:00:00    0.0\n",
       "1970-01-01 01:00:00    1.0\n",
       "1970-01-01 01:00:00    2.0\n",
       "1970-01-01 01:00:00    3.0\n",
       "1970-01-01 01:00:00    4.0\n",
       "Name: count_7_days, dtype: float64"
      ]
     },
     "execution_count": 33,
     "metadata": {},
     "output_type": "execute_result"
    }
   ],
   "source": [
    "count_7_days = launched.rolling('7d').count() - 1\n",
    "count_7_days.head()"
   ]
  },
  {
   "cell_type": "code",
   "execution_count": 34,
   "metadata": {},
   "outputs": [
    {
     "data": {
      "text/plain": [
       "94579     0.0\n",
       "319002    1.0\n",
       "247913    2.0\n",
       "48147     3.0\n",
       "75397     4.0\n",
       "Name: count_7_days, dtype: float64"
      ]
     },
     "execution_count": 34,
     "metadata": {},
     "output_type": "execute_result"
    }
   ],
   "source": [
    "count_7_days.index = launched.values\n",
    "count_7_days.head()"
   ]
  },
  {
   "cell_type": "code",
   "execution_count": 35,
   "metadata": {},
   "outputs": [
    {
     "data": {
      "text/plain": [
       "0    1409.0\n",
       "1     957.0\n",
       "2     739.0\n",
       "3     907.0\n",
       "4    1429.0\n",
       "Name: count_7_days, dtype: float64"
      ]
     },
     "execution_count": 35,
     "metadata": {},
     "output_type": "execute_result"
    }
   ],
   "source": [
    "count_7_days = count_7_days.reindex(data.index)\n",
    "count_7_days.head()"
   ]
  },
  {
   "cell_type": "markdown",
   "metadata": {},
   "source": [
    "### Time since last project"
   ]
  },
  {
   "cell_type": "code",
   "execution_count": null,
   "metadata": {},
   "outputs": [],
   "source": []
  }
 ],
 "metadata": {
  "kernelspec": {
   "display_name": "Python 3",
   "language": "python",
   "name": "python3"
  },
  "language_info": {
   "codemirror_mode": {
    "name": "ipython",
    "version": 3
   },
   "file_extension": ".py",
   "mimetype": "text/x-python",
   "name": "python",
   "nbconvert_exporter": "python",
   "pygments_lexer": "ipython3",
   "version": "3.7.6"
  }
 },
 "nbformat": 4,
 "nbformat_minor": 4
}
